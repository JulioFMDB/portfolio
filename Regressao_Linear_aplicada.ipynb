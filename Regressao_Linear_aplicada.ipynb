{
  "cells": [
    {
      "cell_type": "markdown",
      "metadata": {
        "id": "view-in-github",
        "colab_type": "text"
      },
      "source": [
        "<a href=\"https://colab.research.google.com/github/JulioFMDB/portfolio/blob/main/Regressao_Linear_aplicada.ipynb\" target=\"_parent\"><img src=\"https://colab.research.google.com/assets/colab-badge.svg\" alt=\"Open In Colab\"/></a>"
      ]
    },
    {
      "metadata": {
        "id": "U36sTFjnvCSL"
      },
      "cell_type": "markdown",
      "source": [
        "[![Binder](https://mybinder.org/badge_logo.svg)](https://mybinder.org/v2/gh/billy-ds/ds-course.git/prod?filepath=notebooks%2FAula_11_Regressao_Linear.ipynb)\n",
        "<br>\n",
        "[![Open In Colab](https://colab.research.google.com/assets/colab-badge.svg)](https://colab.research.google.com/github/billy-ds/ds-course/blob/prod/notebooks/Aula_11_Regressao_Linear.ipynb)"
      ]
    },
    {
      "metadata": {
        "id": "DbmSKbdzvCSP"
      },
      "cell_type": "markdown",
      "source": [
        "<a id='section-zero'></a>"
      ]
    },
    {
      "cell_type": "markdown",
      "source": [
        "**Por Júlio Felipe Monteiro De Bem De Bem**\n",
        "\n",
        "**[My LinkedIn](https://www.linkedin.com/in/juliodebem/)**\n",
        "\n",
        "**[My GitHub](https://github.com/JulioFMDB)**\n",
        "\n",
        "**[My personal Instagram](https://www.instagram.com/juliodebem)**\n"
      ],
      "metadata": {
        "id": "L1q63J9Ri81D"
      }
    },
    {
      "metadata": {
        "id": "k3SauwW1vCSP"
      },
      "cell_type": "markdown",
      "source": [
        "# Regressão Linear\n",
        "\n",
        "**Objetivos**: Aprender o que é Regressão Linear e introduzir intuições sobre o Método do Gradiente e o Método do Gradiente Estocástico assim como os problemas de regressão de aprendizagem de máquina. Apresentar a biblioteca `SciKit-Learn`."
      ]
    },
    {
      "metadata": {
        "id": "OtVKi7WNvCSQ"
      },
      "cell_type": "markdown",
      "source": [
        "## Definição - Regressão Linear\n",
        "\n",
        "> Uma regressão linear faz uma predição simplesmente computando uma soma ponderada dos atributos (*features*), mais uma constante chamada viés (*bias*), também chamado de constante (*intercept*)."
      ]
    },
    {
      "metadata": {
        "id": "NPr0AlxBvCSQ"
      },
      "cell_type": "markdown",
      "source": [
        "<img src=\"https://github.com/billy-ds/ds-course/blob/prod/notebooks/images/reg-linear.png?raw=1\" alt=\"reg-linear\" style=\"width: 400px;\"/>"
      ]
    },
    {
      "metadata": {
        "id": "jtZGzj-yvCSR"
      },
      "cell_type": "markdown",
      "source": [
        "$$ \\hat{y} = \\theta_0 + \\theta_1 x_1 + \\theta_2 x_2 + \\dots + \\theta_n x_n$$\n",
        "\n",
        "$\\hat{y}$ - valor previsto\n",
        "\n",
        "$\\theta$ - parâmetro do modelo\n",
        "\n",
        "$n$ - número de atributos (*features*)\n",
        "\n",
        "$x_i$ - o valor do *inésimo* atributo (*feature*)"
      ]
    },
    {
      "metadata": {
        "id": "6YYrbso_vCSR"
      },
      "cell_type": "markdown",
      "source": [
        "### Exemplo\n",
        "\n",
        "$$\\mathrm{preço~de~residência} = 4500 + 1000\\times \\mathrm{quartos} + 120 \\times \\mathrm{m}^2 + 3000 \\times \\mathrm{banheiros} - 1500 \\times \\mathrm{distância~do~centro~km}$$"
      ]
    },
    {
      "metadata": {
        "id": "3ofzGSfvvCSS"
      },
      "cell_type": "markdown",
      "source": [
        "## Métricas de Desempenho de uma Regressão\n",
        "\n",
        "<img src=\"https://github.com/billy-ds/ds-course/blob/prod/notebooks/images/erro-reg.png?raw=1\" alt=\"erro-reg\" style=\"width: 400px;\"/>"
      ]
    },
    {
      "metadata": {
        "id": "vo-r2M6QvCST"
      },
      "cell_type": "markdown",
      "source": [
        "### *Mean Absolute Error* (MAE) - Erro Absoluto Médio"
      ]
    },
    {
      "metadata": {
        "id": "dj3p0mVIvCST"
      },
      "cell_type": "markdown",
      "source": [
        "O erro médio absoluto, MAE (da sigla em inglês Mean Absolute Error), é calculado a partir da **média dos erros absolutos**, ou seja, utilizamos o módulo de cada erro para evitar a subestimação, isso porque, o valor é menos afetado por pontos especialmente extremos (outliers).\n",
        "\n",
        "Cada erro, pode ser interpretado como a diferença entre Y e Ŷ e assim, temos:\n",
        "\n",
        "$$MAE = \\frac{1}{m}\\Sigma_{i=1}^{m}{|\\hat{y}_i - y_i|}$$\n",
        "\n",
        "Utilizamos essa medida em séries temporais, pois há casos em que o erro negativo pode zerar o positivo ou dar uma ideia de que o modelo é preciso. Mas aqui, medimos apenas a distância do valor real, independente de ser acima ou abaixo."
      ]
    },
    {
      "metadata": {
        "id": "fQ8ayXd3vCSU"
      },
      "cell_type": "markdown",
      "source": [
        "### *Mean Squared Error* (MSE) - Erro Quadrático Médio"
      ]
    },
    {
      "metadata": {
        "id": "-vYrXqhkvCSU"
      },
      "cell_type": "markdown",
      "source": [
        "O erro quadrático médio, MSE (da sigla em inglês Mean Squared Error), é comumente usado para verificar a **acurácia de modelos** e dá um maior peso aos maiores erros, já que, ao ser calculado, cada erro é elevado ao quadrado individualmente e, após isso, a média desses erros quadráticos é calculada.\n",
        "\n",
        "Usando o mesmo conceito de erro utilizado anteriormente, temos a equação abaixo:\n",
        "\n",
        "$$MSE = \\frac{1}{m}\\Sigma_{i=1}^{m}{(\\hat{y}_i - y_i)^2}$$\n",
        "\n",
        "Por conta do expoente ao quadrado que o erro assume, essa métrica é bastante sensível a outliers (valores discrepantes) e, caso tenha muitos erros significativos em sua análise, essa métrica poderá ser extrapolada."
      ]
    },
    {
      "metadata": {
        "id": "d2-991xXvCSV"
      },
      "cell_type": "markdown",
      "source": [
        "<img src=\"https://github.com/billy-ds/ds-course/blob/prod/notebooks/images/gradient-descent.gif?raw=1\" alt=\"gradient-descent-animation\" style=\"width: 60%;\"/>"
      ]
    },
    {
      "metadata": {
        "id": "D33GfybxvCSV"
      },
      "cell_type": "markdown",
      "source": [
        "<img src=\"https://github.com/billy-ds/ds-course/blob/prod/notebooks/images/gradient-descent-2.gif?raw=1\" alt=\"gradient-descent-animation\" style=\"width: 60%;\"/>"
      ]
    },
    {
      "metadata": {
        "id": "Q3zlvvI7vCSV"
      },
      "cell_type": "markdown",
      "source": [
        "## Exemplo com o dataset [Boston House Prices](https://scikit-learn.org/stable/datasets/toy_dataset.html#boston-house-prices-dataset)\n",
        "\n",
        "\n",
        "* $N = 506$\n",
        "* Atributos: 13\n",
        "    * `CRIM` crime per capita da região\n",
        "    * `ZN` proporção de terra residencial\n",
        "    * `INDUS` proporção terra comercial não-varejista\n",
        "    * `CHAS` *Dummy* se fica as margens do Charles River (1 ou 0)\n",
        "    * `NOX` concentração de óxido nítrico (partes por 10 milhões)\n",
        "    * `RM` número de quartos\n",
        "    * `AGE` idade da residência\n",
        "    * `DIS` distância dos cinco centros de emprego de Boston\n",
        "    * `RAD` acessibilidade às rodovias radiais\n",
        "    * `TAX` valor do IPTU por 10,000 USD\n",
        "    * `PTRATIO` relação professor-aluno (*pupil-teacher ratio*) da região\n",
        "    * `B` proporção de afro-descendentes na região\n",
        "    * `LSTAT` porcentagem de população de baixa-renda\n",
        "* **Variável resposta**: valor da casa por 10,000 USD"
      ]
    },
    {
      "metadata": {
        "id": "E2SqHdKevCSW",
        "trusted": false,
        "outputId": "48b71150-180a-4cf5-fabf-1eea3e49a93f",
        "colab": {
          "base_uri": "https://localhost:8080/"
        }
      },
      "cell_type": "code",
      "source": [
        "from sklearn.datasets import load_boston\n",
        "\n",
        "boston = load_boston()\n",
        "X = boston['data']\n",
        "y = boston['target']"
      ],
      "execution_count": null,
      "outputs": [
        {
          "output_type": "stream",
          "name": "stderr",
          "text": [
            "/usr/local/lib/python3.7/dist-packages/sklearn/utils/deprecation.py:87: FutureWarning: Function load_boston is deprecated; `load_boston` is deprecated in 1.0 and will be removed in 1.2.\n",
            "\n",
            "    The Boston housing prices dataset has an ethical problem. You can refer to\n",
            "    the documentation of this function for further details.\n",
            "\n",
            "    The scikit-learn maintainers therefore strongly discourage the use of this\n",
            "    dataset unless the purpose of the code is to study and educate about\n",
            "    ethical issues in data science and machine learning.\n",
            "\n",
            "    In this special case, you can fetch the dataset from the original\n",
            "    source::\n",
            "\n",
            "        import pandas as pd\n",
            "        import numpy as np\n",
            "\n",
            "\n",
            "        data_url = \"http://lib.stat.cmu.edu/datasets/boston\"\n",
            "        raw_df = pd.read_csv(data_url, sep=\"\\s+\", skiprows=22, header=None)\n",
            "        data = np.hstack([raw_df.values[::2, :], raw_df.values[1::2, :2]])\n",
            "        target = raw_df.values[1::2, 2]\n",
            "\n",
            "    Alternative datasets include the California housing dataset (i.e.\n",
            "    :func:`~sklearn.datasets.fetch_california_housing`) and the Ames housing\n",
            "    dataset. You can load the datasets as follows::\n",
            "\n",
            "        from sklearn.datasets import fetch_california_housing\n",
            "        housing = fetch_california_housing()\n",
            "\n",
            "    for the California housing dataset and::\n",
            "\n",
            "        from sklearn.datasets import fetch_openml\n",
            "        housing = fetch_openml(name=\"house_prices\", as_frame=True)\n",
            "\n",
            "    for the Ames housing dataset.\n",
            "    \n",
            "  warnings.warn(msg, category=FutureWarning)\n"
          ]
        }
      ]
    },
    {
      "metadata": {
        "id": "kguBQii9vCSY",
        "trusted": false,
        "outputId": "e0c02f3e-612e-46e4-f3d0-2071f49ca481",
        "colab": {
          "base_uri": "https://localhost:8080/"
        }
      },
      "cell_type": "code",
      "source": [
        "print(f\"Nomes dos Atributos: {boston['feature_names']}\")\n",
        "print(f\"Tamanho de X: {X.shape}\")\n",
        "print(f\"Tamanho de y: {y.shape}\")"
      ],
      "execution_count": null,
      "outputs": [
        {
          "output_type": "stream",
          "name": "stdout",
          "text": [
            "Nomes dos Atributos: ['CRIM' 'ZN' 'INDUS' 'CHAS' 'NOX' 'RM' 'AGE' 'DIS' 'RAD' 'TAX' 'PTRATIO'\n",
            " 'B' 'LSTAT']\n",
            "Tamanho de X: (506, 13)\n",
            "Tamanho de y: (506,)\n"
          ]
        }
      ]
    },
    {
      "metadata": {
        "id": "B5bcuxO7vCSZ"
      },
      "cell_type": "markdown",
      "source": [
        "### Quebrando dataset em `train` e `test`\n",
        "\n",
        "Usar a função do Scikit-Learn [`sklearn.model_selection.train_test_split()`](https://scikit-learn.org/stable/modules/generated/sklearn.model_selection.train_test_split.html)\n",
        "\n",
        "#### Argumentos:\n",
        "\n",
        "* matriz a ser dividida - `X` ou `y`\n",
        "* `test_size` - `float` ou `int` do tamanho do dataset de teste (padrão $0.25$)\n",
        "* `train_size` - padrão `1 - test_size`\n",
        "* `random_state` - `int` - seed do gerador de número randômicos (replicabilidade)"
      ]
    },
    {
      "metadata": {
        "id": "eG0HwS_gvCSZ",
        "trusted": false
      },
      "cell_type": "code",
      "source": [
        "from sklearn.model_selection import train_test_split\n",
        "\n",
        "X_train, X_test, y_train, y_test = train_test_split(X,\n",
        "                                                    y,\n",
        "                                                    test_size=0.25,\n",
        "                                                    random_state=123)"
      ],
      "execution_count": null,
      "outputs": []
    },
    {
      "metadata": {
        "id": "0HKATJlevCSZ",
        "trusted": false,
        "outputId": "82272487-3fdd-42df-bc6b-da9e3adfb221",
        "colab": {
          "base_uri": "https://localhost:8080/"
        }
      },
      "cell_type": "code",
      "source": [
        "print(f\"Tamanho de X_train: {X_train.shape}\")\n",
        "print(f\"Tamanho de X_test: {X_test.shape}\")\n",
        "print(f\"Tamanho de y_train: {y_train.shape}\")\n",
        "print(f\"Tamanho de y_test: {y_test.shape}\")"
      ],
      "execution_count": null,
      "outputs": [
        {
          "output_type": "stream",
          "name": "stdout",
          "text": [
            "Tamanho de X_train: (379, 13)\n",
            "Tamanho de X_test: (127, 13)\n",
            "Tamanho de y_train: (379,)\n",
            "Tamanho de y_test: (127,)\n"
          ]
        }
      ]
    },
    {
      "metadata": {
        "id": "7kdNtrkCvCSa"
      },
      "cell_type": "markdown",
      "source": [
        "### Regressão Linear\n",
        "Usar o estimador do Scikit-Learn [`sklearn.linear_model.LinearRegression()`](https://scikit-learn.org/stable/modules/generated/sklearn.linear_model.LinearRegression.html)\n",
        "\n",
        "#### Retorna:\n",
        "* Objeto `estimator` do Scikit-Learn"
      ]
    },
    {
      "metadata": {
        "id": "0r1oagpTvCSa",
        "trusted": false
      },
      "cell_type": "code",
      "source": [
        "from sklearn.linear_model import LinearRegression\n",
        "\n",
        "clf = LinearRegression()"
      ],
      "execution_count": null,
      "outputs": []
    },
    {
      "metadata": {
        "id": "WHNzVyzuvCSa"
      },
      "cell_type": "markdown",
      "source": [
        "### Classe `Estimators`\n",
        "\n",
        "* `.fit()` - Treina o Modelo\n",
        "    * `X`\n",
        "    * `y`\n",
        "* `.predict()` - Gera predições do modelo\n",
        "    * `X`\n",
        "* `.coef_` - Retorna os coeficientes do modelo ($\\theta_i$)\n",
        "* `.intercept_` - Retorna o viés/constante (*bias/intercept*) do modelo ($\\theta_0$)"
      ]
    },
    {
      "metadata": {
        "id": "TAu7Kn2HvCSa",
        "trusted": false,
        "outputId": "db73f338-0f53-4907-9ad6-382283e34090",
        "colab": {
          "base_uri": "https://localhost:8080/"
        }
      },
      "cell_type": "code",
      "source": [
        "clf.fit(X_train, y_train)"
      ],
      "execution_count": null,
      "outputs": [
        {
          "output_type": "execute_result",
          "data": {
            "text/plain": [
              "LinearRegression()"
            ]
          },
          "metadata": {},
          "execution_count": 6
        }
      ]
    },
    {
      "metadata": {
        "id": "TqcUfzYtvCSb",
        "trusted": false,
        "outputId": "4e59bb47-8ede-404d-bef7-38fb42e169d0",
        "colab": {
          "base_uri": "https://localhost:8080/"
        }
      },
      "cell_type": "code",
      "source": [
        "clf.coef_.tolist()"
      ],
      "execution_count": null,
      "outputs": [
        {
          "output_type": "execute_result",
          "data": {
            "text/plain": [
              "[-0.09789103522256483,\n",
              " 0.04277893477009086,\n",
              " 0.05914935073037015,\n",
              " 1.2314983223913518,\n",
              " -15.490255817247963,\n",
              " 4.352157244999679,\n",
              " -0.00046913679732233423,\n",
              " -1.3772064509938118,\n",
              " 0.28208574937893033,\n",
              " -0.012491944544221194,\n",
              " -0.9400115034030585,\n",
              " 0.006622607126908393,\n",
              " -0.5485510540708755]"
            ]
          },
          "metadata": {},
          "execution_count": 7
        }
      ]
    },
    {
      "metadata": {
        "id": "nX4dmvcXvCSb",
        "trusted": false,
        "outputId": "037924af-6824-4b7c-9314-2e9549f8cb3e",
        "colab": {
          "base_uri": "https://localhost:8080/"
        }
      },
      "cell_type": "code",
      "source": [
        "# Coeficientes do modelo\n",
        "for feature, coef in zip(boston['feature_names'].tolist(), clf.coef_.tolist()):\n",
        "    print(f\"{feature}: {round(coef, 2)}\")\n",
        "\n",
        "# Constante do modelo\n",
        "print(f\"Constante: {round(clf.intercept_, 2)}\")"
      ],
      "execution_count": null,
      "outputs": [
        {
          "output_type": "stream",
          "name": "stdout",
          "text": [
            "CRIM: -0.1\n",
            "ZN: 0.04\n",
            "INDUS: 0.06\n",
            "CHAS: 1.23\n",
            "NOX: -15.49\n",
            "RM: 4.35\n",
            "AGE: -0.0\n",
            "DIS: -1.38\n",
            "RAD: 0.28\n",
            "TAX: -0.01\n",
            "PTRATIO: -0.94\n",
            "B: 0.01\n",
            "LSTAT: -0.55\n",
            "Constante: 32.48\n"
          ]
        }
      ]
    },
    {
      "metadata": {
        "id": "38_TQQ-fvCSb"
      },
      "cell_type": "markdown",
      "source": [
        "### Erro do Modelo\n"
      ]
    },
    {
      "metadata": {
        "id": "tvV9Uq3pvCSb",
        "trusted": false,
        "outputId": "001af018-3f39-469e-a2bd-e67c808b5700",
        "colab": {
          "base_uri": "https://localhost:8080/"
        }
      },
      "cell_type": "code",
      "source": [
        "from sklearn.metrics import mean_absolute_error, mean_squared_error\n",
        "\n",
        "y_pred = clf.predict(X_test)\n",
        "\n",
        "print(f\"MSE de Teste: {mean_squared_error(y_test, y_pred):1.1f}\")\n",
        "print(f\"MAE de Teste: {mean_absolute_error(y_test, y_pred):1.1f}\")"
      ],
      "execution_count": null,
      "outputs": [
        {
          "output_type": "stream",
          "name": "stdout",
          "text": [
            "MSE de Teste: 24.8\n",
            "MAE de Teste: 3.4\n"
          ]
        }
      ]
    },
    {
      "metadata": {
        "id": "rtZNSFEwvw3M",
        "trusted": false,
        "outputId": "b45bff25-04e4-426b-ffd0-20a831701aac",
        "colab": {
          "base_uri": "https://localhost:8080/"
        }
      },
      "cell_type": "code",
      "source": [
        "from sklearn.metrics import r2_score\n",
        "\n",
        "r_quadrado = r2_score(y_test, y_pred)\n",
        "\n",
        "print('O R² é de {0}. Isto é, {1}% dos casos são explicados pelo modelo.'.format(round(r_quadrado,3), round(r_quadrado*100,1)))"
      ],
      "execution_count": null,
      "outputs": [
        {
          "output_type": "stream",
          "name": "stdout",
          "text": [
            "O R² é de 0.686. Isto é, 68.6% dos casos são explicados pelo modelo.\n"
          ]
        }
      ]
    },
    {
      "metadata": {
        "id": "4Sl_T3S5vCSc"
      },
      "cell_type": "markdown",
      "source": [
        "## Atividade - Regressão com o dataset [Diabetes](https://scikit-learn.org/stable/datasets/toy_dataset.html#diabetes-dataset)\n",
        "\n",
        "* $N = 442$\n",
        "* Atributos: 10\n",
        "    * `age`\n",
        "    * `sex`\n",
        "    * `bmi` Índice de Massa Corpórea (IMC) - *Body Mass Index* (BMI)\n",
        "    * `bp` pressão arterial média *blood pressure* (bp)\n",
        "    * `s1` colesterol total\n",
        "    * `s2` colesterol LDL\n",
        "    * `s3` colesterol HDL\n",
        "    * `s4` colesterol VLDL\n",
        "    * `s5` triglicerides\n",
        "    * `s6` glicose\n",
        "* Variável dependente: medida quantitativa de progressão da diabetes\n",
        "\n",
        "* Rodem o `LinearRegression()` nos dados de treino e mensure o desempenho nos dados de teste.\n",
        "\n",
        ">Obs: usar `test_size = 0.25` e `random_state = 123`"
      ]
    },
    {
      "metadata": {
        "id": "9T60YI52vCSc",
        "trusted": false
      },
      "cell_type": "code",
      "source": [
        "from sklearn.datasets import load_diabetes\n",
        "\n",
        "diabetes = load_diabetes()\n",
        "X = diabetes['data']\n",
        "y = diabetes['target']"
      ],
      "execution_count": null,
      "outputs": []
    },
    {
      "metadata": {
        "id": "t3840QwGvCSc",
        "trusted": false,
        "outputId": "0e447885-b628-42ba-c083-7b23736bfaf5",
        "colab": {
          "base_uri": "https://localhost:8080/"
        }
      },
      "cell_type": "code",
      "source": [
        "print(f\"Nomes dos Atributos: {diabetes['feature_names']}\")\n",
        "print(f\"Tamanho de X: {X.shape}\")\n",
        "print(f\"Tamanho de y: {y.shape}\")"
      ],
      "execution_count": null,
      "outputs": [
        {
          "output_type": "stream",
          "name": "stdout",
          "text": [
            "Nomes dos Atributos: ['age', 'sex', 'bmi', 'bp', 's1', 's2', 's3', 's4', 's5', 's6']\n",
            "Tamanho de X: (442, 10)\n",
            "Tamanho de y: (442,)\n"
          ]
        }
      ]
    },
    {
      "metadata": {
        "id": "CUruN1XJvCSd",
        "trusted": false
      },
      "cell_type": "code",
      "source": [
        "from sklearn.model_selection import train_test_split\n",
        "\n",
        "X_train, X_test, y_train, y_test = train_test_split(X, y, test_size=0.25, random_state=123)"
      ],
      "execution_count": null,
      "outputs": []
    },
    {
      "metadata": {
        "id": "6QRCdTnuvCSd",
        "trusted": false,
        "outputId": "9d524a0d-4738-45d3-f905-4a7cdf17e453",
        "colab": {
          "base_uri": "https://localhost:8080/"
        }
      },
      "cell_type": "code",
      "source": [
        "print(f\"Tamanho de X_train: {X_train.shape}\")\n",
        "print(f\"Tamanho de X_test: {X_test.shape}\")\n",
        "print(f\"Tamanho de y_train: {y_train.shape}\")\n",
        "print(f\"Tamanho de y_test: {y_test.shape}\")"
      ],
      "execution_count": null,
      "outputs": [
        {
          "output_type": "stream",
          "name": "stdout",
          "text": [
            "Tamanho de X_train: (331, 10)\n",
            "Tamanho de X_test: (111, 10)\n",
            "Tamanho de y_train: (331,)\n",
            "Tamanho de y_test: (111,)\n"
          ]
        }
      ]
    }
  ],
  "metadata": {
    "celltoolbar": "Slideshow",
    "kernelspec": {
      "name": "python3",
      "display_name": "Python 3 (ipykernel)",
      "language": "python"
    },
    "language_info": {
      "name": "python",
      "version": "3.10.6",
      "mimetype": "text/x-python",
      "codemirror_mode": {
        "name": "ipython",
        "version": 3
      },
      "pygments_lexer": "ipython3",
      "nbconvert_exporter": "python",
      "file_extension": ".py"
    },
    "rise": {
      "autolaunch": true,
      "enable_chalkboard": true,
      "progress": true,
      "scroll": true,
      "slideNumber": true,
      "theme": "white"
    },
    "toc": {
      "base_numbering": 1,
      "nav_menu": {},
      "number_sections": true,
      "sideBar": true,
      "skip_h1_title": false,
      "title_cell": "Table of Contents",
      "title_sidebar": "Contents",
      "toc_cell": false,
      "toc_position": {},
      "toc_section_display": true,
      "toc_window_display": false
    },
    "varInspector": {
      "cols": {
        "lenName": 16,
        "lenType": 16,
        "lenVar": 40
      },
      "kernels_config": {
        "python": {
          "delete_cmd_postfix": "",
          "delete_cmd_prefix": "del ",
          "library": "var_list.py",
          "varRefreshCmd": "print(var_dic_list())"
        },
        "r": {
          "delete_cmd_postfix": ") ",
          "delete_cmd_prefix": "rm(",
          "library": "var_list.r",
          "varRefreshCmd": "cat(var_dic_list()) "
        }
      },
      "types_to_exclude": [
        "module",
        "function",
        "builtin_function_or_method",
        "instance",
        "_Feature"
      ],
      "window_display": false
    },
    "colab": {
      "provenance": [],
      "include_colab_link": true
    }
  },
  "nbformat": 4,
  "nbformat_minor": 0
}